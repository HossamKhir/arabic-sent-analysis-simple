{
 "cells": [
  {
   "cell_type": "markdown",
   "id": "3f1dcce6",
   "metadata": {
    "papermill": {
     "duration": 0.049986,
     "end_time": "2022-03-18T21:15:07.303185",
     "exception": false,
     "start_time": "2022-03-18T21:15:07.253199",
     "status": "completed"
    },
    "tags": []
   },
   "source": [
    "# Arabic Sentiment Classifier\n",
    "\n",
    "> Updating `nltk` to use ArabicStemmer\n",
    ">\n",
    "> Fetching [ASTD](https://www.mohamedaly.info/datasets/astd) dataset\n"
   ]
  },
  {
   "cell_type": "code",
   "execution_count": 1,
   "id": "4a93867e",
   "metadata": {
    "execution": {
     "iopub.execute_input": "2022-03-18T21:15:07.432700Z",
     "iopub.status.busy": "2022-03-18T21:15:07.422540Z",
     "iopub.status.idle": "2022-03-18T21:15:25.791329Z",
     "shell.execute_reply": "2022-03-18T21:15:25.790547Z"
    },
    "papermill": {
     "duration": 18.44245,
     "end_time": "2022-03-18T21:15:25.791537",
     "exception": false,
     "start_time": "2022-03-18T21:15:07.349087",
     "status": "completed"
    },
    "tags": []
   },
   "outputs": [
    {
     "name": "stdout",
     "output_type": "stream",
     "text": [
      "Requirement already satisfied: nltk in /opt/conda/lib/python3.7/site-packages (3.2.4)\r\n",
      "Collecting nltk\r\n",
      "  Downloading nltk-3.7-py3-none-any.whl (1.5 MB)\r\n",
      "     |████████████████████████████████| 1.5 MB 241 kB/s            \r\n",
      "\u001b[?25hRequirement already satisfied: joblib in /opt/conda/lib/python3.7/site-packages (from nltk) (1.1.0)\r\n",
      "Requirement already satisfied: regex>=2021.8.3 in /opt/conda/lib/python3.7/site-packages (from nltk) (2021.11.10)\r\n",
      "Requirement already satisfied: tqdm in /opt/conda/lib/python3.7/site-packages (from nltk) (4.62.3)\r\n",
      "Requirement already satisfied: click in /opt/conda/lib/python3.7/site-packages (from nltk) (8.0.3)\r\n",
      "Requirement already satisfied: importlib-metadata in /opt/conda/lib/python3.7/site-packages (from click->nltk) (4.11.2)\r\n",
      "Requirement already satisfied: zipp>=0.5 in /opt/conda/lib/python3.7/site-packages (from importlib-metadata->click->nltk) (3.6.0)\r\n",
      "Requirement already satisfied: typing-extensions>=3.6.4 in /opt/conda/lib/python3.7/site-packages (from importlib-metadata->click->nltk) (4.1.1)\r\n",
      "Installing collected packages: nltk\r\n",
      "  Attempting uninstall: nltk\r\n",
      "    Found existing installation: nltk 3.2.4\r\n",
      "    Uninstalling nltk-3.2.4:\r\n",
      "      Successfully uninstalled nltk-3.2.4\r\n",
      "\u001b[31mERROR: pip's dependency resolver does not currently take into account all the packages that are installed. This behaviour is the source of the following dependency conflicts.\r\n",
      "preprocessing 0.1.13 requires nltk==3.2.4, but you have nltk 3.7 which is incompatible.\r\n",
      "allennlp 2.9.0 requires nltk<3.6.6, but you have nltk 3.7 which is incompatible.\u001b[0m\r\n",
      "Successfully installed nltk-3.7\r\n",
      "\u001b[33mWARNING: Running pip as the 'root' user can result in broken permissions and conflicting behaviour with the system package manager. It is recommended to use a virtual environment instead: https://pip.pypa.io/warnings/venv\u001b[0m\r\n",
      "Cloning into 'ASTD'...\r\n",
      "remote: Enumerating objects: 29, done.\u001b[K\r\n",
      "remote: Total 29 (delta 0), reused 0 (delta 0), pack-reused 29\u001b[K\r\n",
      "Unpacking objects: 100% (29/29), 558.02 KiB | 598.00 KiB/s, done.\r\n"
     ]
    }
   ],
   "source": [
    "!python3 -m pip install --upgrade nltk\n",
    "\n",
    "!git clone \"https://github.com/mahmoudnabil/ASTD.git\"\n"
   ]
  },
  {
   "cell_type": "markdown",
   "id": "93fbf88f",
   "metadata": {
    "papermill": {
     "duration": 0.065653,
     "end_time": "2022-03-18T21:15:25.917324",
     "exception": false,
     "start_time": "2022-03-18T21:15:25.851671",
     "status": "completed"
    },
    "tags": []
   },
   "source": [
    "---\n",
    "\n",
    "## Importing modules & defining globals\n"
   ]
  },
  {
   "cell_type": "code",
   "execution_count": 2,
   "id": "526f513f",
   "metadata": {
    "execution": {
     "iopub.execute_input": "2022-03-18T21:15:26.056787Z",
     "iopub.status.busy": "2022-03-18T21:15:26.056033Z",
     "iopub.status.idle": "2022-03-18T21:15:32.293780Z",
     "shell.execute_reply": "2022-03-18T21:15:32.293018Z"
    },
    "papermill": {
     "duration": 6.305414,
     "end_time": "2022-03-18T21:15:32.293947",
     "exception": false,
     "start_time": "2022-03-18T21:15:25.988533",
     "status": "completed"
    },
    "tags": []
   },
   "outputs": [],
   "source": [
    "import matplotlib.pyplot as plt\n",
    "import nltk\n",
    "import numpy as np\n",
    "import os\n",
    "import pandas as pd\n",
    "import pickle\n",
    "import re\n",
    "import tensorflow as tf\n",
    "from nltk.corpus import stopwords\n",
    "\n",
    "try:\n",
    "    from nltk.stem.snowball import SnowballStemmer, ArabicStemmer\n",
    "except Exception:\n",
    "    from nltk.stem.snowball import SnowballStemmer\n",
    "\n",
    "    def ArabicStemmer(*args, **kwargs):\n",
    "        \"\"\"A wrapper for SnowballStemmer w/ Arabic for nltk < 3.7\n",
    "\n",
    "        FIXME\n",
    "        \"\"\"\n",
    "        return SnowballStemmer(*((\"arabic\",) + args), **kwargs)\n",
    "\n",
    "\n",
    "from nltk.stem.isri import ISRIStemmer\n",
    "\n",
    "# from nltk.stem.arlstem import ARLSTem\n",
    "from nltk.stem.arlstem2 import ARLSTem2\n",
    "from pylab import rcParams\n",
    "from sklearn.feature_extraction.text import CountVectorizer, TfidfVectorizer\n",
    "from sklearn.metrics import classification_report\n",
    "from sklearn.model_selection import train_test_split, RandomizedSearchCV, cross_validate\n",
    "from sklearn.naive_bayes import MultinomialNB\n",
    "from sklearn.pipeline import Pipeline\n",
    "from sklearn.svm import SVC\n",
    "from typing import Callable, Union\n",
    "\n",
    "STOP_WORDS = stopwords.words(\"arabic\")\n",
    "rcParams[\"figure.figsize\"] = (16, 9)\n"
   ]
  },
  {
   "cell_type": "markdown",
   "id": "4e439ee1",
   "metadata": {
    "papermill": {
     "duration": 0.059392,
     "end_time": "2022-03-18T21:15:32.412991",
     "exception": false,
     "start_time": "2022-03-18T21:15:32.353599",
     "status": "completed"
    },
    "tags": []
   },
   "source": [
    "---\n",
    "\n",
    "## Loading dataset\n"
   ]
  },
  {
   "cell_type": "code",
   "execution_count": 3,
   "id": "11420142",
   "metadata": {
    "execution": {
     "iopub.execute_input": "2022-03-18T21:15:32.535628Z",
     "iopub.status.busy": "2022-03-18T21:15:32.534547Z",
     "iopub.status.idle": "2022-03-18T21:15:32.593814Z",
     "shell.execute_reply": "2022-03-18T21:15:32.593180Z"
    },
    "papermill": {
     "duration": 0.121838,
     "end_time": "2022-03-18T21:15:32.593977",
     "exception": false,
     "start_time": "2022-03-18T21:15:32.472139",
     "status": "completed"
    },
    "tags": []
   },
   "outputs": [],
   "source": [
    "corpus = []\n",
    "for line in open(\"./ASTD/data/Tweets.txt\"):\n",
    "    line = line.strip()\n",
    "    corpus.append(line.split(\"\\t\"))\n",
    "\n",
    "df = pd.DataFrame(corpus, columns=[\"tweet\", \"sentiment\"])\n",
    "df.drop_duplicates(inplace=True)\n",
    "# df[\"sentiment\"] = df[\"sentiment\"].replace({\"POS\":\"HPY\", \"NEG\":\"SAD\", \"NEUTRAL\":\"NTR\"})\n",
    "df[\"sentiment\"] = df[\"sentiment\"].astype(\"category\")\n"
   ]
  },
  {
   "cell_type": "code",
   "execution_count": 4,
   "id": "cf892b51",
   "metadata": {
    "execution": {
     "iopub.execute_input": "2022-03-18T21:15:32.716424Z",
     "iopub.status.busy": "2022-03-18T21:15:32.715376Z",
     "iopub.status.idle": "2022-03-18T21:15:32.749976Z",
     "shell.execute_reply": "2022-03-18T21:15:32.750552Z"
    },
    "papermill": {
     "duration": 0.097504,
     "end_time": "2022-03-18T21:15:32.750741",
     "exception": false,
     "start_time": "2022-03-18T21:15:32.653237",
     "status": "completed"
    },
    "tags": []
   },
   "outputs": [
    {
     "data": {
      "text/html": [
       "<div>\n",
       "<style scoped>\n",
       "    .dataframe tbody tr th:only-of-type {\n",
       "        vertical-align: middle;\n",
       "    }\n",
       "\n",
       "    .dataframe tbody tr th {\n",
       "        vertical-align: top;\n",
       "    }\n",
       "\n",
       "    .dataframe thead th {\n",
       "        text-align: right;\n",
       "    }\n",
       "</style>\n",
       "<table border=\"1\" class=\"dataframe\">\n",
       "  <thead>\n",
       "    <tr style=\"text-align: right;\">\n",
       "      <th></th>\n",
       "      <th>tweet</th>\n",
       "      <th>sentiment</th>\n",
       "    </tr>\n",
       "  </thead>\n",
       "  <tbody>\n",
       "    <tr>\n",
       "      <th>count</th>\n",
       "      <td>10002</td>\n",
       "      <td>10002</td>\n",
       "    </tr>\n",
       "    <tr>\n",
       "      <th>unique</th>\n",
       "      <td>10002</td>\n",
       "      <td>4</td>\n",
       "    </tr>\n",
       "    <tr>\n",
       "      <th>top</th>\n",
       "      <td>بعد استقالة رئيس #المحكمة_الدستورية ننتظر استق...</td>\n",
       "      <td>OBJ</td>\n",
       "    </tr>\n",
       "    <tr>\n",
       "      <th>freq</th>\n",
       "      <td>1</td>\n",
       "      <td>6687</td>\n",
       "    </tr>\n",
       "  </tbody>\n",
       "</table>\n",
       "</div>"
      ],
      "text/plain": [
       "                                                    tweet sentiment\n",
       "count                                               10002     10002\n",
       "unique                                              10002         4\n",
       "top     بعد استقالة رئيس #المحكمة_الدستورية ننتظر استق...       OBJ\n",
       "freq                                                    1      6687"
      ]
     },
     "execution_count": 4,
     "metadata": {},
     "output_type": "execute_result"
    }
   ],
   "source": [
    "df.describe()\n"
   ]
  },
  {
   "cell_type": "code",
   "execution_count": 5,
   "id": "58e0c9c0",
   "metadata": {
    "execution": {
     "iopub.execute_input": "2022-03-18T21:15:32.877707Z",
     "iopub.status.busy": "2022-03-18T21:15:32.875329Z",
     "iopub.status.idle": "2022-03-18T21:15:33.145032Z",
     "shell.execute_reply": "2022-03-18T21:15:33.144363Z"
    },
    "papermill": {
     "duration": 0.333535,
     "end_time": "2022-03-18T21:15:33.145188",
     "exception": false,
     "start_time": "2022-03-18T21:15:32.811653",
     "status": "completed"
    },
    "tags": []
   },
   "outputs": [
    {
     "data": {
      "image/png": "[encoded data removed]",
      "text/plain": [
       "<Figure size 1152x648 with 1 Axes>"
      ]
     },
     "metadata": {
      "needs_background": "light"
     },
     "output_type": "display_data"
    }
   ],
   "source": [
    "df[\"sentiment\"].value_counts().plot.barh()\n",
    "plt.show()\n"
   ]
  },
  {
   "cell_type": "markdown",
   "id": "228a9470",
   "metadata": {
    "papermill": {
     "duration": 0.060081,
     "end_time": "2022-03-18T21:15:33.265782",
     "exception": false,
     "start_time": "2022-03-18T21:15:33.205701",
     "status": "completed"
    },
    "tags": []
   },
   "source": [
    "> keeping a portion as a validation set\n"
   ]
  },
  {
   "cell_type": "code",
   "execution_count": 6,
   "id": "6ba426fe",
   "metadata": {
    "execution": {
     "iopub.execute_input": "2022-03-18T21:15:33.393526Z",
     "iopub.status.busy": "2022-03-18T21:15:33.392800Z",
     "iopub.status.idle": "2022-03-18T21:15:33.409230Z",
     "shell.execute_reply": "2022-03-18T21:15:33.409836Z"
    },
    "papermill": {
     "duration": 0.083921,
     "end_time": "2022-03-18T21:15:33.410027",
     "exception": false,
     "start_time": "2022-03-18T21:15:33.326106",
     "status": "completed"
    },
    "tags": []
   },
   "outputs": [],
   "source": [
    "df, valid = train_test_split(\n",
    "    df, test_size=0.15, random_state=42, stratify=df[\"sentiment\"]\n",
    ")\n",
    "pickle.dump(valid, open(\"valid.pkl\", \"wb\"))\n",
    "del valid\n"
   ]
  },
  {
   "cell_type": "markdown",
   "id": "97e74944",
   "metadata": {
    "papermill": {
     "duration": 0.06105,
     "end_time": "2022-03-18T21:15:33.532252",
     "exception": false,
     "start_time": "2022-03-18T21:15:33.471202",
     "status": "completed"
    },
    "tags": []
   },
   "source": [
    "---\n",
    "\n",
    "## Preprocessing\n"
   ]
  },
  {
   "cell_type": "code",
   "execution_count": 7,
   "id": "697378bd",
   "metadata": {
    "execution": {
     "iopub.execute_input": "2022-03-18T21:15:33.664448Z",
     "iopub.status.busy": "2022-03-18T21:15:33.663310Z",
     "iopub.status.idle": "2022-03-18T21:15:33.666531Z",
     "shell.execute_reply": "2022-03-18T21:15:33.665932Z"
    },
    "papermill": {
     "duration": 0.072974,
     "end_time": "2022-03-18T21:15:33.666686",
     "exception": false,
     "start_time": "2022-03-18T21:15:33.593712",
     "status": "completed"
    },
    "tags": []
   },
   "outputs": [],
   "source": [
    "RE_HANDLE = r\"\\b@\\w+\\b\"\n",
    "RE_URI = r\"\\bhttps?://\\S+\\b\"\n",
    "# to capture letters that repeat over 3 times\n",
    "RE_CHAR_3_PLUS = r\"(?u)(?=(\\w))\\1{3,}\"\n",
    "\n",
    "# to capture most common arabic glyphs\n",
    "RE_RANGE_ARA = r\"\\ufe70-\\ufefc\\u0621-\\u063a\\u0640-\\u0652\\u060c\\u061f\"\n",
    "RE_NOT_ARA = r\"(?u)\\b[^\" + RE_RANGE_ARA + \"]+\\b\"\n",
    "\n",
    "# converting farsi glyphs into arabic\n",
    "RE_NORMALISE = {\n",
    "    RE_HANDLE: \" \",\n",
    "    RE_URI: \" \",\n",
    "    RE_NOT_ARA: \" \",\n",
    "    RE_CHAR_3_PLUS: r\"\\1\\1\",\n",
    "    r\"(?u)[\\d\\s_]+\": r\" \",\n",
    "    r\"\\u06fd\": \"\\u0621\",\n",
    "    r\"[\\u0676\\u0677]\": \"\\u0624\",\n",
    "    r\"[\\u0678\\u06d3]\": \"\\u0626\",\n",
    "    r\"[\\u0622\\u0623\\u0625\\u0671-\\u0675]\": \"\\u0627\",\n",
    "    r\"[\\u067b\\u067e\\u0680]\": \"\\u0628\",\n",
    "    r\"[\\u067a\\u067c\\u067d\\u067f]\": \"\\u062a\",\n",
    "    r\"[\\u0686\\u0687]\": \"\\u062c\",\n",
    "    r\"[\\u0688-\\u068b\\u068d]\": \"\\u062f\",\n",
    "    r\"[\\u068c\\u068e-\\u0690]\": \"\\u0630\",\n",
    "    r\"[\\u066b\\u0691-\\u0695]\": \"\\u0631\",\n",
    "    r\"[\\u0696-\\u0699]\": \"\\u0632\",\n",
    "    r\"[\\u069a\\u069b]\": \"\\u0633\",\n",
    "    r\"\\u069c\": \"\\u0634\",\n",
    "    r\"\\u060f\": \"\\u0639\",\n",
    "    r\"\\u06d4\": \"\\u0640\",\n",
    "    r\"[\\u06a4\\u06a5]\": \"\\u0641\",\n",
    "    r\"\\u06a8\\u06a6\": \"\\u0642\",\n",
    "    r\"[\\u063b\\u063c\\u06a9-\\u06b4]\": \"\\u0643\",\n",
    "    r\"[\\u06b5-\\u06b8]\": \"\\u0644\",\n",
    "    r\"\\u06fe\": \"\\u0645\",\n",
    "    r\"[\\u06b9-\\u06bd]\": \"\\u0646\",\n",
    "    r\"[\\u0629\\u06be\\u06c0-\\u06c3\\u06ff]\": \"\\u0647\",\n",
    "    r\"[\\u06c4-\\u06cb\\u06cf]\": \"\\u0648\",\n",
    "    r\"[\\u0620\\u063d-\\u063f\\u0649\\u06cc-\\u06ce\\u06d0-\\u06d2\\u06e6\\u06e7]\": \"\\u064a\",\n",
    "    r\"[\\u06d9\\ufef5\\ufef7\\ufef9]\": \"\\ufefb\",\n",
    "}\n"
   ]
  },
  {
   "cell_type": "code",
   "execution_count": 8,
   "id": "ca685810",
   "metadata": {
    "execution": {
     "iopub.execute_input": "2022-03-18T21:15:33.801511Z",
     "iopub.status.busy": "2022-03-18T21:15:33.800443Z",
     "iopub.status.idle": "2022-03-18T21:15:33.809941Z",
     "shell.execute_reply": "2022-03-18T21:15:33.810530Z"
    },
    "papermill": {
     "duration": 0.08281,
     "end_time": "2022-03-18T21:15:33.810737",
     "exception": false,
     "start_time": "2022-03-18T21:15:33.727927",
     "status": "completed"
    },
    "tags": []
   },
   "outputs": [],
   "source": [
    "def preprocess(\n",
    "    corpus: Union[list, np.ndarray, pd.Series], stemmer: Callable = None\n",
    ") -> np.ndarray:\n",
    "    \"\"\"preprocessing the `corpus`, by normalising the Arabic characters,\n",
    "    removing non-Arabic glyphs, and dropping Twitter-specific features\n",
    "\n",
    "    Parameters:\n",
    "    -----------\n",
    "    corpus: list, numpy.ndarray, pandas.Series\n",
    "        the tweets given in array-like form to be preprocessed\n",
    "    stemmer: function (optional)\n",
    "        optional stem method of any of nltk's Arabic stemmers\n",
    "\n",
    "    Returns:\n",
    "    --------\n",
    "    out: numpy.ndarray\n",
    "        the preprocessed tweets\n",
    "    \"\"\"\n",
    "    corpus = pd.Series(corpus, dtype=str)\n",
    "    for pattern, repl in RE_NORMALISE.items():\n",
    "        corpus = corpus.apply(lambda s: re.sub(pattern, repl, s))\n",
    "\n",
    "    if stemmer:\n",
    "        corpus = corpus.apply(stemmer)\n",
    "    return corpus.values\n"
   ]
  },
  {
   "cell_type": "code",
   "execution_count": 9,
   "id": "0c0a09a7",
   "metadata": {
    "execution": {
     "iopub.execute_input": "2022-03-18T21:15:33.970440Z",
     "iopub.status.busy": "2022-03-18T21:15:33.969739Z",
     "iopub.status.idle": "2022-03-18T21:15:34.042865Z",
     "shell.execute_reply": "2022-03-18T21:15:34.042115Z"
    },
    "papermill": {
     "duration": 0.138517,
     "end_time": "2022-03-18T21:15:34.043029",
     "exception": false,
     "start_time": "2022-03-18T21:15:33.904512",
     "status": "completed"
    },
    "tags": []
   },
   "outputs": [],
   "source": [
    "STOP_WORDS = preprocess(STOP_WORDS).tolist()\n"
   ]
  },
  {
   "cell_type": "markdown",
   "id": "4e8ac00b",
   "metadata": {
    "papermill": {
     "duration": 0.086816,
     "end_time": "2022-03-18T21:15:34.192854",
     "exception": false,
     "start_time": "2022-03-18T21:15:34.106038",
     "status": "completed"
    },
    "tags": []
   },
   "source": [
    "---\n",
    "\n",
    "## Model selection & training\n"
   ]
  },
  {
   "cell_type": "code",
   "execution_count": 10,
   "id": "a958c312",
   "metadata": {
    "execution": {
     "iopub.execute_input": "2022-03-18T21:15:34.347472Z",
     "iopub.status.busy": "2022-03-18T21:15:34.341056Z",
     "iopub.status.idle": "2022-03-18T21:15:34.370055Z",
     "shell.execute_reply": "2022-03-18T21:15:34.370714Z"
    },
    "papermill": {
     "duration": 0.101417,
     "end_time": "2022-03-18T21:15:34.370992",
     "exception": false,
     "start_time": "2022-03-18T21:15:34.269575",
     "status": "completed"
    },
    "tags": []
   },
   "outputs": [],
   "source": [
    "arstem = ArabicStemmer().stem\n",
    "isrstem = ISRIStemmer().stem\n",
    "arlstem = ARLSTem2().stem\n",
    "\n",
    "corpus = df[\"tweet\"]\n",
    "labels = df[\"sentiment\"]\n",
    "\n",
    "X_train, X_test, y_train, y_test = train_test_split(\n",
    "    corpus, labels, random_state=42, test_size=0.2, stratify=labels\n",
    ")\n"
   ]
  },
  {
   "cell_type": "code",
   "execution_count": 11,
   "id": "bd1c2fb5",
   "metadata": {
    "execution": {
     "iopub.execute_input": "2022-03-18T21:15:34.515218Z",
     "iopub.status.busy": "2022-03-18T21:15:34.514508Z",
     "iopub.status.idle": "2022-03-18T21:15:34.523218Z",
     "shell.execute_reply": "2022-03-18T21:15:34.523977Z"
    },
    "papermill": {
     "duration": 0.081606,
     "end_time": "2022-03-18T21:15:34.524202",
     "exception": false,
     "start_time": "2022-03-18T21:15:34.442596",
     "status": "completed"
    },
    "tags": []
   },
   "outputs": [],
   "source": [
    "h_params = {\n",
    "    \"vectoriser__analyzer\": [\"word\", \"char\", \"char_wb\"],\n",
    "    \"vectoriser__ngram_range\": [(1, 1), (2, 7)],\n",
    "    \"clf__alpha\": np.arange(0.05, 0.55, 0.05),\n",
    "}\n",
    "\n",
    "pi_cv_nb = Pipeline(\n",
    "    [(\"vectoriser\", CountVectorizer(stop_words=STOP_WORDS)), (\"clf\", MultinomialNB())]\n",
    ")\n",
    "pi_ti_nb = Pipeline(\n",
    "    [(\"vectoriser\", TfidfVectorizer(stop_words=STOP_WORDS)), (\"clf\", MultinomialNB())]\n",
    ")\n"
   ]
  },
  {
   "cell_type": "code",
   "execution_count": null,
   "id": "bb4e09ac",
   "metadata": {
    "execution": {
     "iopub.execute_input": "2022-03-18T21:15:34.667044Z",
     "iopub.status.busy": "2022-03-18T21:15:34.666398Z",
     "iopub.status.idle": "2022-03-18T21:28:45.341105Z",
     "shell.execute_reply": "2022-03-18T21:28:45.341681Z"
    },
    "papermill": {
     "duration": 790.749909,
     "end_time": "2022-03-18T21:28:45.341886",
     "exception": false,
     "start_time": "2022-03-18T21:15:34.591977",
     "status": "completed"
    },
    "tags": []
   },
   "outputs": [],
   "source": [
    "stems = [arstem, isrstem, arlstem]\n",
    "train = {}\n",
    "for i in range(len(stems)):\n",
    "    train[i] = preprocess(X_train, stems[i])\n",
    "\n",
    "best_params = {}\n",
    "for pipe in [pi_cv_nb, pi_ti_nb]:\n",
    "    search = RandomizedSearchCV(\n",
    "        pipe, h_params, random_state=42, cv=5, scoring=\"f1_micro\"\n",
    "    )\n",
    "    for i in train:\n",
    "        search.fit(train[i], y_train)\n",
    "        best_params[i] = search.best_params_\n",
    "    print(best_params)\n"
   ]
  },
  {
   "cell_type": "markdown",
   "id": "f2c0ee8e",
   "metadata": {
    "papermill": {
     "duration": 0.135479,
     "end_time": "2022-03-18T21:28:45.627659",
     "exception": false,
     "start_time": "2022-03-18T21:28:45.492180",
     "status": "completed"
    },
    "tags": []
   },
   "source": [
    "### A benchmark model\n"
   ]
  },
  {
   "cell_type": "code",
   "execution_count": 13,
   "id": "5dae39b2",
   "metadata": {
    "execution": {
     "iopub.execute_input": "2022-03-18T21:28:45.990634Z",
     "iopub.status.busy": "2022-03-18T21:28:45.951563Z",
     "iopub.status.idle": "2022-03-18T21:28:46.976316Z",
     "shell.execute_reply": "2022-03-18T21:28:46.975572Z"
    },
    "papermill": {
     "duration": 1.213101,
     "end_time": "2022-03-18T21:28:46.976491",
     "exception": false,
     "start_time": "2022-03-18T21:28:45.763390",
     "status": "completed"
    },
    "tags": []
   },
   "outputs": [],
   "source": [
    "benchmark = Pipeline(\n",
    "    steps=[\n",
    "        (\"vectoriser\", TfidfVectorizer(stop_words=STOP_WORDS)),\n",
    "        (\"clf\", MultinomialNB(alpha=0.15)),\n",
    "    ]\n",
    ")\n",
    "\n",
    "stemmer = arstem\n",
    "X_train_stem = preprocess(X_train, stemmer)\n",
    "scoring = [\n",
    "    \"f1_micro\",\n",
    "    \"neg_log_loss\",\n",
    "]\n"
   ]
  },
  {
   "cell_type": "code",
   "execution_count": 14,
   "id": "cf8707b2",
   "metadata": {
    "execution": {
     "iopub.execute_input": "2022-03-18T21:28:47.253924Z",
     "iopub.status.busy": "2022-03-18T21:28:47.253165Z",
     "iopub.status.idle": "2022-03-18T21:28:48.868965Z",
     "shell.execute_reply": "2022-03-18T21:28:48.868366Z"
    },
    "papermill": {
     "duration": 1.756645,
     "end_time": "2022-03-18T21:28:48.869118",
     "exception": false,
     "start_time": "2022-03-18T21:28:47.112473",
     "status": "completed"
    },
    "tags": []
   },
   "outputs": [
    {
     "name": "stderr",
     "output_type": "stream",
     "text": [
      "/opt/conda/lib/python3.7/site-packages/sklearn/feature_extraction/text.py:401: UserWarning: Your stop_words may be inconsistent with your preprocessing. Tokenizing the stop words generated tokens ['ؤلاء', 'ات', 'اتان', 'اخ', 'ارتد', 'افعل', 'افعله', 'امين', 'انفك', 'برح', 'تان', 'تبد', 'تحو', 'تعل', 'حد', 'حم', 'حي', 'خب', 'ذار', 'سيما', 'صه', 'ظل', 'ظن', 'عد', 'قط', 'مر', 'مكان', 'مكانكن', 'نب', 'هات', 'هب', 'واها', 'وراء'] not in stop_words.\n",
      "  % sorted(inconsistent)\n",
      "/opt/conda/lib/python3.7/site-packages/sklearn/feature_extraction/text.py:401: UserWarning: Your stop_words may be inconsistent with your preprocessing. Tokenizing the stop words generated tokens ['ؤلاء', 'ات', 'اتان', 'اخ', 'ارتد', 'افعل', 'افعله', 'امين', 'انفك', 'برح', 'تان', 'تبد', 'تحو', 'تعل', 'حد', 'حم', 'حي', 'خب', 'ذار', 'سيما', 'صه', 'ظل', 'ظن', 'عد', 'قط', 'مر', 'مكان', 'مكانكن', 'نب', 'هات', 'هب', 'واها', 'وراء'] not in stop_words.\n",
      "  % sorted(inconsistent)\n",
      "/opt/conda/lib/python3.7/site-packages/sklearn/feature_extraction/text.py:401: UserWarning: Your stop_words may be inconsistent with your preprocessing. Tokenizing the stop words generated tokens ['ؤلاء', 'ات', 'اتان', 'اخ', 'ارتد', 'افعل', 'افعله', 'امين', 'انفك', 'برح', 'تان', 'تبد', 'تحو', 'تعل', 'حد', 'حم', 'حي', 'خب', 'ذار', 'سيما', 'صه', 'ظل', 'ظن', 'عد', 'قط', 'مر', 'مكان', 'مكانكن', 'نب', 'هات', 'هب', 'واها', 'وراء'] not in stop_words.\n",
      "  % sorted(inconsistent)\n",
      "/opt/conda/lib/python3.7/site-packages/sklearn/feature_extraction/text.py:401: UserWarning: Your stop_words may be inconsistent with your preprocessing. Tokenizing the stop words generated tokens ['ؤلاء', 'ات', 'اتان', 'اخ', 'ارتد', 'افعل', 'افعله', 'امين', 'انفك', 'برح', 'تان', 'تبد', 'تحو', 'تعل', 'حد', 'حم', 'حي', 'خب', 'ذار', 'سيما', 'صه', 'ظل', 'ظن', 'عد', 'قط', 'مر', 'مكان', 'مكانكن', 'نب', 'هات', 'هب', 'واها', 'وراء'] not in stop_words.\n",
      "  % sorted(inconsistent)\n",
      "/opt/conda/lib/python3.7/site-packages/sklearn/feature_extraction/text.py:401: UserWarning: Your stop_words may be inconsistent with your preprocessing. Tokenizing the stop words generated tokens ['ؤلاء', 'ات', 'اتان', 'اخ', 'ارتد', 'افعل', 'افعله', 'امين', 'انفك', 'برح', 'تان', 'تبد', 'تحو', 'تعل', 'حد', 'حم', 'حي', 'خب', 'ذار', 'سيما', 'صه', 'ظل', 'ظن', 'عد', 'قط', 'مر', 'مكان', 'مكانكن', 'نب', 'هات', 'هب', 'واها', 'وراء'] not in stop_words.\n",
      "  % sorted(inconsistent)\n"
     ]
    },
    {
     "data": {
      "text/plain": [
       "{'fit_time': array([0.19428587, 0.1937499 , 0.2077508 , 0.20163298, 0.3761375 ]),\n",
       " 'score_time': array([0.07767725, 0.08309913, 0.08346415, 0.08053136, 0.07778239]),\n",
       " 'test_f1_micro': array([0.68088235, 0.675     , 0.68602941, 0.67867647, 0.68455882]),\n",
       " 'test_neg_log_loss': array([-0.95361406, -0.95013097, -0.9060624 , -0.89811208, -0.94620186])}"
      ]
     },
     "execution_count": 14,
     "metadata": {},
     "output_type": "execute_result"
    }
   ],
   "source": [
    "report = cross_validate(benchmark, X_train_stem, y_train, scoring=scoring)\n",
    "report\n"
   ]
  },
  {
   "cell_type": "markdown",
   "id": "0ff1eb1f",
   "metadata": {
    "papermill": {
     "duration": 0.140611,
     "end_time": "2022-03-18T21:28:49.150718",
     "exception": false,
     "start_time": "2022-03-18T21:28:49.010107",
     "status": "completed"
    },
    "tags": []
   },
   "source": [
    "### Alternative models\n"
   ]
  },
  {
   "cell_type": "code",
   "execution_count": 15,
   "id": "faf7eddd",
   "metadata": {
    "execution": {
     "iopub.execute_input": "2022-03-18T21:28:49.442646Z",
     "iopub.status.busy": "2022-03-18T21:28:49.441953Z",
     "iopub.status.idle": "2022-03-18T21:28:50.388387Z",
     "shell.execute_reply": "2022-03-18T21:28:50.387779Z"
    },
    "papermill": {
     "duration": 1.096273,
     "end_time": "2022-03-18T21:28:50.388553",
     "exception": false,
     "start_time": "2022-03-18T21:28:49.292280",
     "status": "completed"
    },
    "tags": []
   },
   "outputs": [],
   "source": [
    "alt_1 = Pipeline(\n",
    "    [\n",
    "        (\n",
    "            \"vectoriser\",\n",
    "            TfidfVectorizer(\n",
    "                ngram_range=(2, 7), analyzer=\"char_wb\", stop_words=STOP_WORDS\n",
    "            ),\n",
    "        ),\n",
    "        (\"clf\", MultinomialNB(alpha=0.05)),\n",
    "    ]\n",
    ")\n",
    "\n",
    "stemmer = isrstem\n",
    "X_train_stem = preprocess(X_train, stemmer)\n"
   ]
  },
  {
   "cell_type": "code",
   "execution_count": 16,
   "id": "049e3054",
   "metadata": {
    "execution": {
     "iopub.execute_input": "2022-03-18T21:28:50.675788Z",
     "iopub.status.busy": "2022-03-18T21:28:50.674043Z",
     "iopub.status.idle": "2022-03-18T21:29:07.987772Z",
     "shell.execute_reply": "2022-03-18T21:29:07.987135Z"
    },
    "papermill": {
     "duration": 17.457071,
     "end_time": "2022-03-18T21:29:07.987927",
     "exception": false,
     "start_time": "2022-03-18T21:28:50.530856",
     "status": "completed"
    },
    "tags": []
   },
   "outputs": [
    {
     "data": {
      "text/plain": [
       "{'fit_time': array([2.60207558, 2.55441546, 2.50182223, 2.56090164, 2.4838593 ]),\n",
       " 'score_time': array([0.91997027, 0.91319323, 0.89832735, 0.88995409, 0.89620924]),\n",
       " 'test_f1_micro': array([0.69117647, 0.69338235, 0.69191176, 0.7       , 0.68823529]),\n",
       " 'test_neg_log_loss': array([-1.67917274, -1.61898715, -1.50973468, -1.45764405, -1.62605451])}"
      ]
     },
     "execution_count": 16,
     "metadata": {},
     "output_type": "execute_result"
    }
   ],
   "source": [
    "report = cross_validate(alt_1, X_train_stem, y_train, scoring=scoring)\n",
    "report\n"
   ]
  },
  {
   "cell_type": "code",
   "execution_count": 17,
   "id": "32d12034",
   "metadata": {
    "execution": {
     "iopub.execute_input": "2022-03-18T21:29:08.324306Z",
     "iopub.status.busy": "2022-03-18T21:29:08.319152Z",
     "iopub.status.idle": "2022-03-18T21:29:09.347693Z",
     "shell.execute_reply": "2022-03-18T21:29:09.347002Z"
    },
    "papermill": {
     "duration": 1.217903,
     "end_time": "2022-03-18T21:29:09.347859",
     "exception": false,
     "start_time": "2022-03-18T21:29:08.129956",
     "status": "completed"
    },
    "tags": []
   },
   "outputs": [],
   "source": [
    "alt_2 = Pipeline(\n",
    "    [\n",
    "        (\n",
    "            \"vectoriser\",\n",
    "            CountVectorizer(ngram_range=(2, 7), analyzer=\"char\", stop_words=STOP_WORDS),\n",
    "        ),\n",
    "        (\"clf\", MultinomialNB(alpha=0.5)),\n",
    "    ]\n",
    ")\n",
    "\n",
    "stemmer = arstem\n",
    "X_train_stem = preprocess(X_train, stemmer)\n"
   ]
  },
  {
   "cell_type": "code",
   "execution_count": 18,
   "id": "648529aa",
   "metadata": {
    "execution": {
     "iopub.execute_input": "2022-03-18T21:29:09.649691Z",
     "iopub.status.busy": "2022-03-18T21:29:09.648589Z",
     "iopub.status.idle": "2022-03-18T21:29:44.249256Z",
     "shell.execute_reply": "2022-03-18T21:29:44.249854Z"
    },
    "papermill": {
     "duration": 34.760623,
     "end_time": "2022-03-18T21:29:44.250076",
     "exception": false,
     "start_time": "2022-03-18T21:29:09.489453",
     "status": "completed"
    },
    "tags": []
   },
   "outputs": [
    {
     "data": {
      "text/plain": [
       "{'fit_time': array([5.51183534, 5.59194112, 5.51675272, 5.51439643, 5.6110847 ]),\n",
       " 'score_time': array([1.28827929, 1.31100893, 1.27562165, 1.33140087, 1.26319933]),\n",
       " 'test_f1_micro': array([0.69485294, 0.68529412, 0.69044118, 0.69117647, 0.68676471]),\n",
       " 'test_neg_log_loss': array([-9.4496364 , -9.48623566, -9.35943064, -9.27741376, -9.65058137])}"
      ]
     },
     "execution_count": 18,
     "metadata": {},
     "output_type": "execute_result"
    }
   ],
   "source": [
    "report = cross_validate(alt_2, X_train_stem, y_train, scoring=scoring)\n",
    "report\n"
   ]
  },
  {
   "cell_type": "code",
   "execution_count": 19,
   "id": "77cb235d",
   "metadata": {
    "execution": {
     "iopub.execute_input": "2022-03-18T21:29:44.597486Z",
     "iopub.status.busy": "2022-03-18T21:29:44.582152Z",
     "iopub.status.idle": "2022-03-18T21:29:48.900786Z",
     "shell.execute_reply": "2022-03-18T21:29:48.900072Z"
    },
    "papermill": {
     "duration": 4.506151,
     "end_time": "2022-03-18T21:29:48.900944",
     "exception": false,
     "start_time": "2022-03-18T21:29:44.394793",
     "status": "completed"
    },
    "tags": []
   },
   "outputs": [],
   "source": [
    "X_train_stem = preprocess(X_train, arstem)\n",
    "X_test_stem = preprocess(X_test, arstem)\n",
    "\n",
    "_ = alt_1.fit(X_train_stem, y_train)\n"
   ]
  },
  {
   "cell_type": "code",
   "execution_count": 20,
   "id": "4166e4d3",
   "metadata": {
    "execution": {
     "iopub.execute_input": "2022-03-18T21:29:49.215650Z",
     "iopub.status.busy": "2022-03-18T21:29:49.210601Z",
     "iopub.status.idle": "2022-03-18T21:29:49.779567Z",
     "shell.execute_reply": "2022-03-18T21:29:49.778857Z"
    },
    "papermill": {
     "duration": 0.738451,
     "end_time": "2022-03-18T21:29:49.779745",
     "exception": false,
     "start_time": "2022-03-18T21:29:49.041294",
     "status": "completed"
    },
    "tags": []
   },
   "outputs": [
    {
     "name": "stdout",
     "output_type": "stream",
     "text": [
      "              precision    recall  f1-score   support\n",
      "\n",
      "         OBJ     0.7108    0.9340    0.8073      1137\n",
      "         NEG     0.4770    0.2902    0.3609       286\n",
      "         POS     0.3636    0.0294    0.0544       136\n",
      "     NEUTRAL     0.2273    0.0352    0.0610       142\n",
      "\n",
      "    accuracy                         0.6784      1701\n",
      "   macro avg     0.4447    0.3222    0.3209      1701\n",
      "weighted avg     0.6034    0.6784    0.6097      1701\n",
      "\n"
     ]
    }
   ],
   "source": [
    "y_pred = alt_1.predict(X_test_stem)\n",
    "\n",
    "print(classification_report(y_test, y_pred, labels=y_test.unique(), digits=4))\n"
   ]
  },
  {
   "cell_type": "markdown",
   "id": "9e211e52",
   "metadata": {
    "papermill": {
     "duration": 0.14466,
     "end_time": "2022-03-18T21:29:50.068722",
     "exception": false,
     "start_time": "2022-03-18T21:29:49.924062",
     "status": "completed"
    },
    "tags": []
   },
   "source": [
    "- clearly the imbalance greatly affects the metrics\n"
   ]
  },
  {
   "cell_type": "code",
   "execution_count": 21,
   "id": "6c1f3e79",
   "metadata": {
    "execution": {
     "iopub.execute_input": "2022-03-18T21:29:50.373207Z",
     "iopub.status.busy": "2022-03-18T21:29:50.372100Z",
     "iopub.status.idle": "2022-03-18T21:37:53.001373Z",
     "shell.execute_reply": "2022-03-18T21:37:53.000711Z"
    },
    "papermill": {
     "duration": 482.788989,
     "end_time": "2022-03-18T21:37:53.001560",
     "exception": false,
     "start_time": "2022-03-18T21:29:50.212571",
     "status": "completed"
    },
    "tags": []
   },
   "outputs": [],
   "source": [
    "alt_3 = Pipeline(\n",
    "    [\n",
    "        (\n",
    "            \"vectoriser\",\n",
    "            TfidfVectorizer(\n",
    "                ngram_range=(2, 7), analyzer=\"char_wb\", stop_words=STOP_WORDS\n",
    "            ),\n",
    "        ),\n",
    "        (\n",
    "            \"clf\",\n",
    "            SVC(\n",
    "                kernel=\"linear\",\n",
    "                probability=True,\n",
    "                class_weight=\"balanced\",\n",
    "                random_state=42,\n",
    "            ),\n",
    "        ),\n",
    "    ]\n",
    ")\n",
    "\n",
    "_ = alt_3.fit(X_train_stem, y_train)\n"
   ]
  },
  {
   "cell_type": "code",
   "execution_count": 22,
   "id": "5bd80911",
   "metadata": {
    "execution": {
     "iopub.execute_input": "2022-03-18T21:37:53.290363Z",
     "iopub.status.busy": "2022-03-18T21:37:53.289700Z",
     "iopub.status.idle": "2022-03-18T21:38:08.410418Z",
     "shell.execute_reply": "2022-03-18T21:38:08.410979Z"
    },
    "papermill": {
     "duration": 15.266084,
     "end_time": "2022-03-18T21:38:08.411169",
     "exception": false,
     "start_time": "2022-03-18T21:37:53.145085",
     "status": "completed"
    },
    "tags": []
   },
   "outputs": [
    {
     "name": "stdout",
     "output_type": "stream",
     "text": [
      "              precision    recall  f1-score   support\n",
      "\n",
      "         OBJ     0.8131    0.7537    0.7823      1137\n",
      "         NEG     0.4169    0.5524    0.4752       286\n",
      "         POS     0.3115    0.2794    0.2946       136\n",
      "     NEUTRAL     0.2671    0.2746    0.2708       142\n",
      "\n",
      "    accuracy                         0.6420      1701\n",
      "   macro avg     0.4521    0.4651    0.4557      1701\n",
      "weighted avg     0.6608    0.6420    0.6490      1701\n",
      "\n"
     ]
    }
   ],
   "source": [
    "y_pred = alt_3.predict(X_test_stem)\n",
    "\n",
    "print(classification_report(y_test, y_pred, labels=y_test.unique(), digits=4))\n"
   ]
  },
  {
   "cell_type": "code",
   "execution_count": null,
   "id": "d82f0ecd",
   "metadata": {
    "execution": {
     "iopub.execute_input": "2022-03-18T21:38:08.704252Z",
     "iopub.status.busy": "2022-03-18T21:38:08.703219Z",
     "iopub.status.idle": "2022-03-18T21:38:16.242870Z",
     "shell.execute_reply": "2022-03-18T21:38:16.243527Z"
    },
    "papermill": {
     "duration": 7.688482,
     "end_time": "2022-03-18T21:38:16.243724",
     "exception": false,
     "start_time": "2022-03-18T21:38:08.555242",
     "status": "completed"
    },
    "tags": []
   },
   "outputs": [],
   "source": [
    "for clf in [benchmark, alt_2]:\n",
    "    _ = clf.fit(X_train_stem, y_train)\n"
   ]
  },
  {
   "cell_type": "code",
   "execution_count": 24,
   "id": "2621c314",
   "metadata": {
    "execution": {
     "iopub.execute_input": "2022-03-18T21:38:16.536457Z",
     "iopub.status.busy": "2022-03-18T21:38:16.535620Z",
     "iopub.status.idle": "2022-03-18T21:38:16.537597Z",
     "shell.execute_reply": "2022-03-18T21:38:16.538318Z"
    },
    "papermill": {
     "duration": 0.149552,
     "end_time": "2022-03-18T21:38:16.538520",
     "exception": false,
     "start_time": "2022-03-18T21:38:16.388968",
     "status": "completed"
    },
    "tags": []
   },
   "outputs": [],
   "source": [
    "# TODO SVC w/ non-linear kernel\n"
   ]
  },
  {
   "cell_type": "markdown",
   "id": "49a6f194",
   "metadata": {
    "papermill": {
     "duration": 0.144079,
     "end_time": "2022-03-18T21:38:16.830510",
     "exception": false,
     "start_time": "2022-03-18T21:38:16.686431",
     "status": "completed"
    },
    "tags": []
   },
   "source": [
    "---\n",
    "\n",
    "## A DL approach\n",
    "\n",
    "### preprocessing for DL\n"
   ]
  },
  {
   "cell_type": "code",
   "execution_count": 25,
   "id": "3d75d82f",
   "metadata": {
    "execution": {
     "iopub.execute_input": "2022-03-18T21:38:17.128038Z",
     "iopub.status.busy": "2022-03-18T21:38:17.124318Z",
     "iopub.status.idle": "2022-03-18T21:38:17.130224Z",
     "shell.execute_reply": "2022-03-18T21:38:17.130987Z"
    },
    "papermill": {
     "duration": 0.159353,
     "end_time": "2022-03-18T21:38:17.131173",
     "exception": false,
     "start_time": "2022-03-18T21:38:16.971820",
     "status": "completed"
    },
    "tags": []
   },
   "outputs": [],
   "source": [
    "def drop_stopwords_doc(\n",
    "    document: str, stop_words: Union[list, np.ndarray] = STOP_WORDS\n",
    ") -> str:\n",
    "    \"\"\"removes the stop words from a given document\n",
    "\n",
    "    Parameters:\n",
    "    -----------\n",
    "    document: str\n",
    "        the string to be cleaned\n",
    "    stop_words: list, numpy.ndarray\n",
    "        the list of stop words to compare against\n",
    "\n",
    "    Returns:\n",
    "    --------\n",
    "    out: str\n",
    "        the string without the stop words\n",
    "    \"\"\"\n",
    "    processed = \" \".join([word for word in document.split() if word not in stop_words])\n",
    "    processed = re.sub(r\"\\s{2,}\", \" \", processed)\n",
    "    return processed\n",
    "\n",
    "\n",
    "drop_stopwords_corpus = np.vectorize(drop_stopwords_doc)\n"
   ]
  },
  {
   "cell_type": "code",
   "execution_count": 26,
   "id": "fed45c76",
   "metadata": {
    "execution": {
     "iopub.execute_input": "2022-03-18T21:38:17.481104Z",
     "iopub.status.busy": "2022-03-18T21:38:17.480442Z",
     "iopub.status.idle": "2022-03-18T21:38:17.771006Z",
     "shell.execute_reply": "2022-03-18T21:38:17.772244Z"
    },
    "papermill": {
     "duration": 0.459207,
     "end_time": "2022-03-18T21:38:17.772534",
     "exception": false,
     "start_time": "2022-03-18T21:38:17.313327",
     "status": "completed"
    },
    "tags": []
   },
   "outputs": [],
   "source": [
    "X_test_stem = preprocess(X_test, arstem)\n"
   ]
  },
  {
   "cell_type": "code",
   "execution_count": 27,
   "id": "9e523511",
   "metadata": {
    "execution": {
     "iopub.execute_input": "2022-03-18T21:38:18.073494Z",
     "iopub.status.busy": "2022-03-18T21:38:18.072837Z",
     "iopub.status.idle": "2022-03-18T21:38:19.151773Z",
     "shell.execute_reply": "2022-03-18T21:38:19.152325Z"
    },
    "papermill": {
     "duration": 1.229756,
     "end_time": "2022-03-18T21:38:19.152540",
     "exception": false,
     "start_time": "2022-03-18T21:38:17.922784",
     "status": "completed"
    },
    "tags": []
   },
   "outputs": [],
   "source": [
    "X_train_nostop = drop_stopwords_corpus(X_train_stem)\n",
    "X_test_nostop = drop_stopwords_corpus(X_test_stem)\n"
   ]
  },
  {
   "cell_type": "code",
   "execution_count": 28,
   "id": "6d160678",
   "metadata": {
    "execution": {
     "iopub.execute_input": "2022-03-18T21:38:19.445845Z",
     "iopub.status.busy": "2022-03-18T21:38:19.445138Z",
     "iopub.status.idle": "2022-03-18T21:38:20.918954Z",
     "shell.execute_reply": "2022-03-18T21:38:20.918397Z"
    },
    "papermill": {
     "duration": 1.623029,
     "end_time": "2022-03-18T21:38:20.919111",
     "exception": false,
     "start_time": "2022-03-18T21:38:19.296082",
     "status": "completed"
    },
    "tags": []
   },
   "outputs": [],
   "source": [
    "tokeniser = tf.keras.preprocessing.text.Tokenizer()\n",
    "_ = tokeniser.fit_on_texts(X_train_nostop)\n",
    "X_train_seq = tokeniser.texts_to_sequences(X_train_nostop)\n",
    "X_test_seq = tokeniser.texts_to_sequences(X_test_nostop)\n"
   ]
  },
  {
   "cell_type": "code",
   "execution_count": 29,
   "id": "09324900",
   "metadata": {
    "execution": {
     "iopub.execute_input": "2022-03-18T21:38:21.212581Z",
     "iopub.status.busy": "2022-03-18T21:38:21.211884Z",
     "iopub.status.idle": "2022-03-18T21:38:21.263012Z",
     "shell.execute_reply": "2022-03-18T21:38:21.262408Z"
    },
    "papermill": {
     "duration": 0.201078,
     "end_time": "2022-03-18T21:38:21.263171",
     "exception": false,
     "start_time": "2022-03-18T21:38:21.062093",
     "status": "completed"
    },
    "tags": []
   },
   "outputs": [],
   "source": [
    "MAX_LENGTH = int(1.5 * max([len(seq) for seq in X_train_seq]))\n",
    "X_train_pad = tf.keras.preprocessing.sequence.pad_sequences(\n",
    "    X_train_seq, MAX_LENGTH, padding=\"post\"\n",
    ")\n",
    "X_test_pad = tf.keras.preprocessing.sequence.pad_sequences(\n",
    "    X_test_seq, MAX_LENGTH, padding=\"post\"\n",
    ")\n"
   ]
  },
  {
   "cell_type": "code",
   "execution_count": 30,
   "id": "f76611ee",
   "metadata": {
    "execution": {
     "iopub.execute_input": "2022-03-18T21:38:21.561187Z",
     "iopub.status.busy": "2022-03-18T21:38:21.560239Z",
     "iopub.status.idle": "2022-03-18T21:38:21.563792Z",
     "shell.execute_reply": "2022-03-18T21:38:21.564291Z"
    },
    "papermill": {
     "duration": 0.15407,
     "end_time": "2022-03-18T21:38:21.564499",
     "exception": false,
     "start_time": "2022-03-18T21:38:21.410429",
     "status": "completed"
    },
    "tags": []
   },
   "outputs": [],
   "source": [
    "y_train_cat = y_train.astype(\"category\").cat.codes\n",
    "y_train_cat = tf.keras.utils.to_categorical(y_train_cat)\n",
    "\n",
    "y_test_cat = y_test.astype(\"category\").cat.codes\n",
    "y_test_cat = tf.keras.utils.to_categorical(y_test_cat)\n"
   ]
  },
  {
   "cell_type": "markdown",
   "id": "0ff04e61",
   "metadata": {
    "papermill": {
     "duration": 0.142665,
     "end_time": "2022-03-18T21:38:21.850989",
     "exception": false,
     "start_time": "2022-03-18T21:38:21.708324",
     "status": "completed"
    },
    "tags": []
   },
   "source": [
    "## Model selection\n",
    "\n",
    "### [Mazajak](http://mazajak.inf.ed.ac.uk:8000/) architecture\n"
   ]
  },
  {
   "cell_type": "code",
   "execution_count": 31,
   "id": "8a92193d",
   "metadata": {
    "execution": {
     "iopub.execute_input": "2022-03-18T21:38:22.144669Z",
     "iopub.status.busy": "2022-03-18T21:38:22.143888Z",
     "iopub.status.idle": "2022-03-18T21:38:22.504166Z",
     "shell.execute_reply": "2022-03-18T21:38:22.505008Z"
    },
    "papermill": {
     "duration": 0.51123,
     "end_time": "2022-03-18T21:38:22.505287",
     "exception": false,
     "start_time": "2022-03-18T21:38:21.994057",
     "status": "completed"
    },
    "tags": []
   },
   "outputs": [
    {
     "name": "stderr",
     "output_type": "stream",
     "text": [
      "2022-03-18 21:38:22.187640: I tensorflow/core/common_runtime/process_util.cc:146] Creating new thread pool with default inter op setting: 2. Tune using inter_op_parallelism_threads for best performance.\n"
     ]
    },
    {
     "name": "stdout",
     "output_type": "stream",
     "text": [
      "Model: \"mazajak\"\n",
      "_________________________________________________________________\n",
      "Layer (type)                 Output Shape              Param #   \n",
      "=================================================================\n",
      "embedding (Embedding)        (None, 39, 300)           7788900   \n",
      "_________________________________________________________________\n",
      "conv1d (Conv1D)              (None, 37, 300)           270300    \n",
      "_________________________________________________________________\n",
      "max_pooling1d (MaxPooling1D) (None, 18, 300)           0         \n",
      "_________________________________________________________________\n",
      "lstm (LSTM)                  (None, 128)               219648    \n",
      "_________________________________________________________________\n",
      "dense (Dense)                (None, 4)                 516       \n",
      "=================================================================\n",
      "Total params: 8,279,364\n",
      "Trainable params: 8,279,364\n",
      "Non-trainable params: 0\n",
      "_________________________________________________________________\n"
     ]
    }
   ],
   "source": [
    "input_dim = len(tokeniser.word_counts) + 1\n",
    "\n",
    "mazaj = tf.keras.Sequential(\n",
    "    [\n",
    "        tf.keras.layers.Embedding(input_dim, 300, input_length=MAX_LENGTH),\n",
    "        tf.keras.layers.Conv1D(300, 3, activation=\"relu\"),\n",
    "        tf.keras.layers.MaxPool1D(),\n",
    "        tf.keras.layers.LSTM(128, dropout=0.2, recurrent_dropout=0.2),\n",
    "        tf.keras.layers.Dense(y_train_cat.shape[1], activation=\"softmax\"),\n",
    "    ],\n",
    "    name=\"mazajak\",\n",
    ")\n",
    "\n",
    "mazaj.compile(\n",
    "    tf.keras.optimizers.Adam(learning_rate=1e-4),\n",
    "    \"categorical_crossentropy\",\n",
    "    \"categorical_accuracy\",\n",
    ")\n",
    "\n",
    "mazaj.summary()\n"
   ]
  },
  {
   "cell_type": "code",
   "execution_count": 32,
   "id": "6e0bdf5c",
   "metadata": {
    "execution": {
     "iopub.execute_input": "2022-03-18T21:38:22.798045Z",
     "iopub.status.busy": "2022-03-18T21:38:22.797365Z",
     "iopub.status.idle": "2022-03-18T21:39:45.788395Z",
     "shell.execute_reply": "2022-03-18T21:39:45.788999Z"
    },
    "papermill": {
     "duration": 83.138163,
     "end_time": "2022-03-18T21:39:45.789223",
     "exception": false,
     "start_time": "2022-03-18T21:38:22.651060",
     "status": "completed"
    },
    "tags": []
   },
   "outputs": [
    {
     "name": "stderr",
     "output_type": "stream",
     "text": [
      "2022-03-18 21:38:22.853268: I tensorflow/compiler/mlir/mlir_graph_optimization_pass.cc:185] None of the MLIR Optimization Passes are enabled (registered 2)\n"
     ]
    },
    {
     "name": "stdout",
     "output_type": "stream",
     "text": [
      "Epoch 1/2\n",
      "213/213 [==============================] - 44s 188ms/step - loss: 0.9988 - categorical_accuracy: 0.6644 - val_loss: 0.9777 - val_categorical_accuracy: 0.6684\n",
      "Epoch 2/2\n",
      "213/213 [==============================] - 39s 184ms/step - loss: 0.8700 - categorical_accuracy: 0.6916 - val_loss: 0.9346 - val_categorical_accuracy: 0.6796\n"
     ]
    }
   ],
   "source": [
    "_ = mazaj.fit(\n",
    "    np.r_[X_train_pad, X_test_pad],\n",
    "    np.r_[y_train_cat, y_test_cat],\n",
    "    epochs=2,\n",
    "    verbose=1,\n",
    "    validation_split=0.2,\n",
    ")\n"
   ]
  },
  {
   "cell_type": "markdown",
   "id": "a9c6c15c",
   "metadata": {
    "papermill": {
     "duration": 0.319443,
     "end_time": "2022-03-18T21:39:46.421058",
     "exception": false,
     "start_time": "2022-03-18T21:39:46.101615",
     "status": "completed"
    },
    "tags": []
   },
   "source": [
    "### Alternatives\n",
    "\n",
    "> inspired by [DataCamp](https://www.datacamp.com/courses/recurrent-neural-networks-for-language-modeling-in-python)\n"
   ]
  },
  {
   "cell_type": "code",
   "execution_count": 33,
   "id": "69e30414",
   "metadata": {
    "execution": {
     "iopub.execute_input": "2022-03-18T21:39:47.059963Z",
     "iopub.status.busy": "2022-03-18T21:39:47.059209Z",
     "iopub.status.idle": "2022-03-18T21:39:47.378513Z",
     "shell.execute_reply": "2022-03-18T21:39:47.377632Z"
    },
    "papermill": {
     "duration": 0.638519,
     "end_time": "2022-03-18T21:39:47.378741",
     "exception": false,
     "start_time": "2022-03-18T21:39:46.740222",
     "status": "completed"
    },
    "tags": []
   },
   "outputs": [
    {
     "name": "stdout",
     "output_type": "stream",
     "text": [
      "Model: \"alt_4\"\n",
      "_________________________________________________________________\n",
      "Layer (type)                 Output Shape              Param #   \n",
      "=================================================================\n",
      "embedding_1 (Embedding)      (None, 39, 300)           7788900   \n",
      "_________________________________________________________________\n",
      "lstm_1 (LSTM)                (None, 39, 128)           219648    \n",
      "_________________________________________________________________\n",
      "lstm_2 (LSTM)                (None, 64)                49408     \n",
      "_________________________________________________________________\n",
      "dense_1 (Dense)              (None, 32)                2080      \n",
      "_________________________________________________________________\n",
      "dropout (Dropout)            (None, 32)                0         \n",
      "_________________________________________________________________\n",
      "dense_2 (Dense)              (None, 4)                 132       \n",
      "=================================================================\n",
      "Total params: 8,060,168\n",
      "Trainable params: 8,060,168\n",
      "Non-trainable params: 0\n",
      "_________________________________________________________________\n"
     ]
    }
   ],
   "source": [
    "alt_4 = tf.keras.Sequential(\n",
    "    [\n",
    "        tf.keras.layers.Embedding(input_dim, 300, input_length=MAX_LENGTH),\n",
    "        tf.keras.layers.LSTM(\n",
    "            128, dropout=0.2, recurrent_dropout=0.2, return_sequences=True\n",
    "        ),\n",
    "        tf.keras.layers.LSTM(\n",
    "            64, dropout=0.2, recurrent_dropout=0.2, return_sequences=False\n",
    "        ),\n",
    "        tf.keras.layers.Dense(32, activation=\"relu\"),\n",
    "        tf.keras.layers.Dropout(0.5),\n",
    "        tf.keras.layers.Dense(y_train_cat.shape[1], activation=\"softmax\"),\n",
    "    ],\n",
    "    name=\"alt_4\",\n",
    ")\n",
    "\n",
    "alt_4.compile(\n",
    "    \"adam\",\n",
    "    \"categorical_crossentropy\",\n",
    "    \"categorical_accuracy\",\n",
    ")\n",
    "\n",
    "alt_4.summary()\n"
   ]
  },
  {
   "cell_type": "code",
   "execution_count": 34,
   "id": "060c273b",
   "metadata": {
    "execution": {
     "iopub.execute_input": "2022-03-18T21:39:48.015947Z",
     "iopub.status.busy": "2022-03-18T21:39:48.015256Z",
     "iopub.status.idle": "2022-03-18T21:41:22.458181Z",
     "shell.execute_reply": "2022-03-18T21:41:22.459069Z"
    },
    "papermill": {
     "duration": 94.765565,
     "end_time": "2022-03-18T21:41:22.459483",
     "exception": false,
     "start_time": "2022-03-18T21:39:47.693918",
     "status": "completed"
    },
    "tags": []
   },
   "outputs": [
    {
     "name": "stdout",
     "output_type": "stream",
     "text": [
      "213/213 [==============================] - 94s 410ms/step - loss: 1.0374 - categorical_accuracy: 0.6590 - val_loss: 0.9292 - val_categorical_accuracy: 0.6684\n"
     ]
    }
   ],
   "source": [
    "_ = alt_4.fit(\n",
    "    np.r_[X_train_pad, X_test_pad],\n",
    "    np.r_[y_train_cat, y_test_cat],\n",
    "    epochs=1,\n",
    "    verbose=1,\n",
    "    validation_split=0.2,\n",
    ")\n"
   ]
  },
  {
   "cell_type": "code",
   "execution_count": 35,
   "id": "2a7ac28f",
   "metadata": {
    "execution": {
     "iopub.execute_input": "2022-03-18T21:41:23.277091Z",
     "iopub.status.busy": "2022-03-18T21:41:23.276391Z",
     "iopub.status.idle": "2022-03-18T21:41:23.604652Z",
     "shell.execute_reply": "2022-03-18T21:41:23.605195Z"
    },
    "papermill": {
     "duration": 0.742136,
     "end_time": "2022-03-18T21:41:23.605416",
     "exception": false,
     "start_time": "2022-03-18T21:41:22.863280",
     "status": "completed"
    },
    "tags": []
   },
   "outputs": [
    {
     "name": "stdout",
     "output_type": "stream",
     "text": [
      "Model: \"alt_5\"\n",
      "_________________________________________________________________\n",
      "Layer (type)                 Output Shape              Param #   \n",
      "=================================================================\n",
      "embedding_2 (Embedding)      (None, 39, 300)           7788900   \n",
      "_________________________________________________________________\n",
      "bidirectional (Bidirectional (None, 256)               439296    \n",
      "_________________________________________________________________\n",
      "dense_3 (Dense)              (None, 32)                8224      \n",
      "_________________________________________________________________\n",
      "dropout_1 (Dropout)          (None, 32)                0         \n",
      "_________________________________________________________________\n",
      "dense_4 (Dense)              (None, 4)                 132       \n",
      "=================================================================\n",
      "Total params: 8,236,552\n",
      "Trainable params: 8,236,552\n",
      "Non-trainable params: 0\n",
      "_________________________________________________________________\n"
     ]
    }
   ],
   "source": [
    "alt_5 = tf.keras.Sequential(\n",
    "    [\n",
    "        tf.keras.layers.Embedding(input_dim, 300, input_length=MAX_LENGTH),\n",
    "        tf.keras.layers.Bidirectional(\n",
    "            tf.keras.layers.LSTM(\n",
    "                128, dropout=0.2, recurrent_dropout=0.2, return_sequences=False\n",
    "            )\n",
    "        ),\n",
    "        tf.keras.layers.Dense(32, activation=\"relu\"),\n",
    "        tf.keras.layers.Dropout(0.5),\n",
    "        tf.keras.layers.Dense(y_train_cat.shape[1], activation=\"softmax\"),\n",
    "    ],\n",
    "    name=\"alt_5\",\n",
    ")\n",
    "\n",
    "alt_5.compile(\n",
    "    \"adam\",\n",
    "    \"categorical_crossentropy\",\n",
    "    \"categorical_accuracy\",\n",
    ")\n",
    "\n",
    "alt_5.summary()\n"
   ]
  },
  {
   "cell_type": "code",
   "execution_count": 36,
   "id": "d8216815",
   "metadata": {
    "execution": {
     "iopub.execute_input": "2022-03-18T21:41:24.416526Z",
     "iopub.status.busy": "2022-03-18T21:41:24.415852Z",
     "iopub.status.idle": "2022-03-18T21:43:14.270606Z",
     "shell.execute_reply": "2022-03-18T21:43:14.269803Z"
    },
    "papermill": {
     "duration": 110.261754,
     "end_time": "2022-03-18T21:43:14.270774",
     "exception": false,
     "start_time": "2022-03-18T21:41:24.009020",
     "status": "completed"
    },
    "tags": []
   },
   "outputs": [
    {
     "name": "stdout",
     "output_type": "stream",
     "text": [
      "213/213 [==============================] - 110s 484ms/step - loss: 0.9797 - categorical_accuracy: 0.6634 - val_loss: 0.9052 - val_categorical_accuracy: 0.6690\n"
     ]
    }
   ],
   "source": [
    "_ = alt_5.fit(\n",
    "    np.r_[X_train_pad, X_test_pad],\n",
    "    np.r_[y_train_cat, y_test_cat],\n",
    "    epochs=1,\n",
    "    verbose=1,\n",
    "    validation_split=0.2,\n",
    ")\n"
   ]
  },
  {
   "cell_type": "markdown",
   "id": "32d31b5b",
   "metadata": {
    "papermill": {
     "duration": 0.492487,
     "end_time": "2022-03-18T21:43:15.260065",
     "exception": false,
     "start_time": "2022-03-18T21:43:14.767578",
     "status": "completed"
    },
    "tags": []
   },
   "source": [
    "---\n",
    "\n",
    "## Validation\n"
   ]
  },
  {
   "cell_type": "code",
   "execution_count": 37,
   "id": "e31c45d0",
   "metadata": {
    "execution": {
     "iopub.execute_input": "2022-03-18T21:43:16.260896Z",
     "iopub.status.busy": "2022-03-18T21:43:16.260209Z",
     "iopub.status.idle": "2022-03-18T21:43:16.503689Z",
     "shell.execute_reply": "2022-03-18T21:43:16.504268Z"
    },
    "papermill": {
     "duration": 0.748137,
     "end_time": "2022-03-18T21:43:16.504484",
     "exception": false,
     "start_time": "2022-03-18T21:43:15.756347",
     "status": "completed"
    },
    "tags": []
   },
   "outputs": [],
   "source": [
    "valid = pickle.load(open(\"valid.pkl\", \"rb\"))\n",
    "X_valid = valid[\"tweet\"]\n",
    "y_valid = valid[\"sentiment\"]\n",
    "\n",
    "X_valid_stem = preprocess(X_valid, arstem)\n"
   ]
  },
  {
   "cell_type": "code",
   "execution_count": 38,
   "id": "07ba82e9",
   "metadata": {
    "execution": {
     "iopub.execute_input": "2022-03-18T21:43:17.494895Z",
     "iopub.status.busy": "2022-03-18T21:43:17.494139Z",
     "iopub.status.idle": "2022-03-18T21:43:17.498163Z",
     "shell.execute_reply": "2022-03-18T21:43:17.498771Z"
    },
    "papermill": {
     "duration": 0.501417,
     "end_time": "2022-03-18T21:43:17.498962",
     "exception": false,
     "start_time": "2022-03-18T21:43:16.997545",
     "status": "completed"
    },
    "tags": []
   },
   "outputs": [],
   "source": [
    "model_names = [\"benchmark\", \"alt_1\", \"alt_2\", \"alt_3\"]  # , \"mazajak\", \"alt_4\", \"alt_5\"]\n",
    "models = [benchmark, alt_1, alt_2, alt_3]  # , model, alt_4, alt_5]\n",
    "scores = {}\n"
   ]
  },
  {
   "cell_type": "code",
   "execution_count": 39,
   "id": "1cba364c",
   "metadata": {
    "execution": {
     "iopub.execute_input": "2022-03-18T21:43:18.550220Z",
     "iopub.status.busy": "2022-03-18T21:43:18.549532Z",
     "iopub.status.idle": "2022-03-18T21:43:33.083029Z",
     "shell.execute_reply": "2022-03-18T21:43:33.082437Z"
    },
    "papermill": {
     "duration": 15.030621,
     "end_time": "2022-03-18T21:43:33.083196",
     "exception": false,
     "start_time": "2022-03-18T21:43:18.052575",
     "status": "completed"
    },
    "tags": []
   },
   "outputs": [],
   "source": [
    "for i in range(4):\n",
    "    y_pred = models[i].predict(X_valid_stem)\n",
    "    report = classification_report(y_valid, y_pred, labels=y_valid.unique(), digits=4)\n",
    "    scores[model_names[i]] = report\n"
   ]
  },
  {
   "cell_type": "code",
   "execution_count": 40,
   "id": "9e1f3c53",
   "metadata": {
    "execution": {
     "iopub.execute_input": "2022-03-18T21:43:34.064637Z",
     "iopub.status.busy": "2022-03-18T21:43:34.063960Z",
     "iopub.status.idle": "2022-03-18T21:43:34.305374Z",
     "shell.execute_reply": "2022-03-18T21:43:34.304769Z"
    },
    "papermill": {
     "duration": 0.727633,
     "end_time": "2022-03-18T21:43:34.305539",
     "exception": false,
     "start_time": "2022-03-18T21:43:33.577906",
     "status": "completed"
    },
    "tags": []
   },
   "outputs": [],
   "source": [
    "X_valid_nostop = drop_stopwords_corpus(X_valid_stem)\n",
    "X_valid_seq = tokeniser.texts_to_sequences(X_valid_nostop)\n",
    "X_valid_pad = tf.keras.preprocessing.sequence.pad_sequences(\n",
    "    X_valid_seq, MAX_LENGTH, padding=\"post\"\n",
    ")\n",
    "\n",
    "y_valid_cat = y_valid.astype(\"category\").cat.codes\n",
    "y_valid_cat = tf.keras.utils.to_categorical(y_valid_cat)\n",
    "\n",
    "models = [mazaj, alt_4, alt_5]\n",
    "scoring = [\"categorical_crossentropy\", \"categorical_accuracy\"]\n"
   ]
  },
  {
   "cell_type": "code",
   "execution_count": 41,
   "id": "65e35681",
   "metadata": {
    "execution": {
     "iopub.execute_input": "2022-03-18T21:43:35.282109Z",
     "iopub.status.busy": "2022-03-18T21:43:35.281450Z",
     "iopub.status.idle": "2022-03-18T21:43:44.285305Z",
     "shell.execute_reply": "2022-03-18T21:43:44.284661Z"
    },
    "papermill": {
     "duration": 9.492345,
     "end_time": "2022-03-18T21:43:44.285523",
     "exception": false,
     "start_time": "2022-03-18T21:43:34.793178",
     "status": "completed"
    },
    "tags": []
   },
   "outputs": [],
   "source": [
    "for model in models:\n",
    "    report = model.evaluate(X_valid_pad, y_valid_cat, verbose=0)\n",
    "    scores[model.name] = dict(zip(scoring, report))\n"
   ]
  },
  {
   "cell_type": "code",
   "execution_count": 42,
   "id": "ed5acfb2",
   "metadata": {
    "execution": {
     "iopub.execute_input": "2022-03-18T21:43:45.282439Z",
     "iopub.status.busy": "2022-03-18T21:43:45.281382Z",
     "iopub.status.idle": "2022-03-18T21:43:45.291202Z",
     "shell.execute_reply": "2022-03-18T21:43:45.291780Z"
    },
    "papermill": {
     "duration": 0.511191,
     "end_time": "2022-03-18T21:43:45.291976",
     "exception": false,
     "start_time": "2022-03-18T21:43:44.780785",
     "status": "completed"
    },
    "tags": []
   },
   "outputs": [
    {
     "name": "stdout",
     "output_type": "stream",
     "text": [
      "benchmark\n",
      "              precision    recall  f1-score   support\n",
      "\n",
      "         NEG     0.4177    0.1304    0.1988       253\n",
      "         OBJ     0.6897    0.9661    0.8048      1003\n",
      "         POS     0.4286    0.0250    0.0472       120\n",
      "     NEUTRAL     0.4000    0.0320    0.0593       125\n",
      "\n",
      "    accuracy                         0.6722      1501\n",
      "   macro avg     0.4840    0.2884    0.2775      1501\n",
      "weighted avg     0.5988    0.6722    0.5800      1501\n",
      "\n",
      "========================================================================================\n",
      "alt_1\n",
      "              precision    recall  f1-score   support\n",
      "\n",
      "         NEG     0.5128    0.3162    0.3912       253\n",
      "         OBJ     0.7212    0.9412    0.8166      1003\n",
      "         POS     0.4375    0.0583    0.1029       120\n",
      "     NEUTRAL     0.3500    0.0560    0.0966       125\n",
      "\n",
      "    accuracy                         0.6915      1501\n",
      "   macro avg     0.5054    0.3429    0.3518      1501\n",
      "weighted avg     0.6325    0.6915    0.6279      1501\n",
      "\n",
      "========================================================================================\n",
      "alt_2\n",
      "              precision    recall  f1-score   support\n",
      "\n",
      "         NEG     0.5212    0.3399    0.4115       253\n",
      "         OBJ     0.7226    0.9322    0.8141      1003\n",
      "         POS     0.2667    0.0333    0.0593       120\n",
      "     NEUTRAL     0.3333    0.0720    0.1184       125\n",
      "\n",
      "    accuracy                         0.6889      1501\n",
      "   macro avg     0.4609    0.3444    0.3508      1501\n",
      "weighted avg     0.6198    0.6889    0.6280      1501\n",
      "\n",
      "========================================================================================\n",
      "alt_3\n",
      "              precision    recall  f1-score   support\n",
      "\n",
      "         NEG     0.4134    0.5375    0.4674       253\n",
      "         OBJ     0.8106    0.7298    0.7681      1003\n",
      "         POS     0.3417    0.3417    0.3417       120\n",
      "     NEUTRAL     0.2483    0.2960    0.2701       125\n",
      "\n",
      "    accuracy                         0.6302      1501\n",
      "   macro avg     0.4535    0.4763    0.4618      1501\n",
      "weighted avg     0.6594    0.6302    0.6418      1501\n",
      "\n",
      "========================================================================================\n",
      "mazajak\n",
      "{'categorical_crossentropy': 0.9380881786346436, 'categorical_accuracy': 0.674217164516449}\n",
      "========================================================================================\n",
      "alt_4\n",
      "{'categorical_crossentropy': 0.921015202999115, 'categorical_accuracy': 0.6682211756706238}\n",
      "========================================================================================\n",
      "alt_5\n",
      "{'categorical_crossentropy': 0.9017369151115417, 'categorical_accuracy': 0.6688874363899231}\n",
      "========================================================================================\n"
     ]
    }
   ],
   "source": [
    "for model_name in scores:\n",
    "    print(model_name)\n",
    "    print(scores[model_name])\n",
    "    print(\"=\" * 88)\n"
   ]
  }
 ],
 "metadata": {
  "kernelspec": {
   "display_name": "Python 3",
   "language": "python",
   "name": "python3"
  },
  "language_info": {
   "codemirror_mode": {
    "name": "ipython",
    "version": 3
   },
   "file_extension": ".py",
   "mimetype": "text/x-python",
   "name": "python",
   "nbconvert_exporter": "python",
   "pygments_lexer": "ipython3",
   "version": "3.7.12"
  },
  "papermill": {
   "default_parameters": {},
   "duration": 1731.883282,
   "end_time": "2022-03-18T21:43:48.972906",
   "environment_variables": {},
   "exception": null,
   "input_path": "__notebook__.ipynb",
   "output_path": "__notebook__.ipynb",
   "parameters": {},
   "start_time": "2022-03-18T21:14:57.089624",
   "version": "2.3.3"
  }
 },
 "nbformat": 4,
 "nbformat_minor": 5
}
